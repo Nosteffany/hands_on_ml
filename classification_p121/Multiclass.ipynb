{
 "cells": [
  {
   "cell_type": "code",
   "execution_count": 1,
   "id": "7c74680f",
   "metadata": {},
   "outputs": [],
   "source": [
    "# from sklearn.datasets import fetch_openml\n",
    "import pickle\n",
    "import sklearn as sk\n",
    "import numpy as np\n",
    "import matplotlib.pyplot as plt\n",
    "from sklearn.linear_model import SGDClassifier\n",
    "from sklearn.model_selection import cross_val_score\n",
    "\n",
    "\n",
    "with open('/home/dmytro/Desktop/hands_on_ml/classification_p121/mnist.pickle', 'rb') as f:\n",
    "    mnist = pickle.load(f)\n",
    "\n",
    "# Prepare data\n",
    "X = mnist['data']\n",
    "y = mnist['target'].astype('int')\n",
    "\n",
    "X_train = X[:20000]\n",
    "X_test = X[20000:22000]\n",
    "\n",
    "y_train = y[:20000]\n",
    "y_test = y[20000:22000]\n",
    "\n",
    "# y_train_5 = (y_train == 5)\n",
    "# y_test_5 = (y_test == 5)\n",
    "\n",
    "# y_train_5 = y_train_5.astype('int')\n",
    "# y_test_5 = y_test_5.astype('int')\n",
    "\n"
   ]
  },
  {
   "cell_type": "code",
   "execution_count": 2,
   "id": "61f37b98",
   "metadata": {},
   "outputs": [
    {
     "data": {
      "text/plain": [
       "SVC()"
      ]
     },
     "execution_count": 2,
     "metadata": {},
     "output_type": "execute_result"
    }
   ],
   "source": [
    "from sklearn.svm import SVC\n",
    "\n",
    "sv = SVC()\n",
    "sv.fit(X_train, y_train)\n"
   ]
  },
  {
   "cell_type": "code",
   "execution_count": 3,
   "id": "e8d07528",
   "metadata": {},
   "outputs": [
    {
     "data": {
      "text/plain": [
       "0.9675"
      ]
     },
     "execution_count": 3,
     "metadata": {},
     "output_type": "execute_result"
    }
   ],
   "source": [
    "# some_digit_scores = svm_clf.decision_function([some_digit])\n",
    "\n",
    "sv.score(X_test, y_test)\n",
    "\n",
    "# If you want to force Scikit-Learn to use one-versus-one or one-versus-the-rest,\n",
    "# you can use the OneVsOneClassifier or OneVsRestClassifier classes.\n",
    "# Simply create an instance and pass a classifier to its constructor (it does not even\n",
    "# have to be a binary classifier).\n",
    "\n",
    "# fit -> cross_val_score -> Standart scale\n",
    "\n"
   ]
  },
  {
   "cell_type": "code",
   "execution_count": 4,
   "id": "d916243f",
   "metadata": {},
   "outputs": [],
   "source": [
    "#Error Analysis\n",
    "\n",
    "# First, look at the confusion matrix. You need to make predictions using the\n",
    "# cross_val_predict() function, then call the confusion_matrix() function,\n",
    "# just like you did earlier\n",
    "\n",
    "from sklearn.preprocessing import StandardScaler\n",
    "from sklearn.model_selection import cross_val_predict\n",
    "\n",
    "\n",
    "\n",
    "scaler = StandardScaler()\n",
    "X_train_scaled = scaler.fit_transform(X_train.astype(np.float64))\n",
    "\n",
    "y_train_pred = cross_val_predict(sv, X_train_scaled, y_train, cv=3)"
   ]
  },
  {
   "cell_type": "code",
   "execution_count": 6,
   "id": "b05cd64a",
   "metadata": {},
   "outputs": [
    {
     "data": {
      "text/plain": [
       "array([[1958,    0,   14,    4,    3,    3,    6,    3,    2,    1],\n",
       "       [   0, 2241,   12,    4,    2,    1,    2,    7,    9,    3],\n",
       "       [   9,    9, 1815,   15,   12,    3,   15,   28,   21,    2],\n",
       "       [   0,   11,   50, 1910,    5,   25,    2,   41,   22,   10],\n",
       "       [   2,    5,   26,    0, 1842,    4,   12,   10,    1,   43],\n",
       "       [  10,    6,   13,   39,    3, 1650,   24,   12,   12,    6],\n",
       "       [  10,    4,   37,    0,    8,   15, 1879,   14,    4,    0],\n",
       "       [   3,    6,   28,    5,   16,    0,    0, 1990,    5,   40],\n",
       "       [   9,   19,   25,   28,   11,   30,   16,   11, 1758,   15],\n",
       "       [   5,    3,   17,   16,   34,    6,    1,   58,   16, 1858]])"
      ]
     },
     "execution_count": 6,
     "metadata": {},
     "output_type": "execute_result"
    },
    {
     "data": {
      "image/png": "[encoded data removed]",
      "text/plain": [
       "<Figure size 288x288 with 1 Axes>"
      ]
     },
     "metadata": {
      "needs_background": "light"
     },
     "output_type": "display_data"
    }
   ],
   "source": [
    "from sklearn.metrics import confusion_matrix\n",
    "\n",
    "conf_mx = confusion_matrix(y_train, y_train_pred)\n",
    "\n",
    "row_sums = conf_mx.sum(axis=1, keepdims=True)\n",
    "norm_conf_mx = conf_mx / row_sums\n",
    "\n",
    "np.fill_diagonal(norm_conf_mx, 0)\n",
    "plt.matshow(norm_conf_mx, cmap=plt.cm.gray)\n",
    "# plt.show()\n",
    "conf_mx\n"
   ]
  },
  {
   "cell_type": "code",
   "execution_count": 14,
   "id": "8f58a617",
   "metadata": {},
   "outputs": [],
   "source": [
    "# Analyzing the confusion matrix often gives you insights into ways to improve\n",
    "# your classifier. Looking at this plot, it seems that your efforts should be spent on\n",
    "# reducing the false 2s. For example, you could try to gather more training data for\n",
    "# digits that look like 2s (but are not) so that the classifier can learn to distinguish\n",
    "# them from real 2s. Or you could engineer new features that would help the\n",
    "# classifier—for example, writing an algorithm to count the number of closed\n",
    "# loops (e.g., 8 has two, 6 has one, 5 has none). Or you could preprocess the\n",
    "# images (e.g., using Scikit-Image, Pillow, or OpenCV) to make some patterns,\n",
    "# such as closed loops, stand out more."
   ]
  },
  {
   "cell_type": "code",
   "execution_count": 9,
   "id": "ddde8299",
   "metadata": {},
   "outputs": [
    {
     "data": {
      "text/plain": [
       "KNeighborsClassifier()"
      ]
     },
     "execution_count": 9,
     "metadata": {},
     "output_type": "execute_result"
    }
   ],
   "source": [
    "#                  Multilabel classification\n",
    "\n",
    "# We won’t go into face recognition just yet, but let’s look at a simpler example,\n",
    "# just for illustration purposes:\n",
    "\n",
    "from sklearn.neighbors import KNeighborsClassifier\n",
    "\n",
    "y_train_large = (y_train >= 7)\n",
    "y_train_odd = (y_train % 2 == 1)\n",
    "y_multilabel = np.c_[y_train_large, y_train_odd]\n",
    "\n",
    "knn_clf = KNeighborsClassifier()\n",
    "knn_clf.fit(X_train, y_multilabel)\n",
    "\n"
   ]
  },
  {
   "cell_type": "code",
   "execution_count": 39,
   "id": "b80cf358",
   "metadata": {},
   "outputs": [
    {
     "data": {
      "text/plain": [
       "0.9654238425909302"
      ]
     },
     "execution_count": 39,
     "metadata": {},
     "output_type": "execute_result"
    }
   ],
   "source": [
    "# There are many ways to evaluate a multilabel classifier, and selecting the right\n",
    "# metric really depends on your project. One approach is to measure the F  score\n",
    "# for each individual label (or any other binary classifier metric discussed earlier),\n",
    "# then simply compute the average score. This code computes the average F  score\n",
    "# across all labels:\n",
    "\n",
    "from sklearn.metrics import f1_score\n",
    "\n",
    "y_train_knn_pred = cross_val_predict(knn_clf, X_train, y_multilabel, cv=3)\n",
    "f1_score(y_multilabel, y_train_knn_pred, average=\"weighted\")\n",
    "\n",
    "# This assumes that all labels are equally important, however, which may not be\n",
    "# the case. In particular, if you have many more pictures of Alice than of Bob or\n",
    "# Charlie, you may want to give more weight to the classifier’s score on pictures\n",
    "# of Alice. One simple option is to give each label a weight equal to its support\n",
    "# (i.e., the number of instances with that target label). To do this, simply set\n",
    "# average=\"weighted\" in the preceding code."
   ]
  },
  {
   "cell_type": "code",
   "execution_count": 66,
   "id": "a688531d",
   "metadata": {},
   "outputs": [
    {
     "name": "stderr",
     "output_type": "stream",
     "text": [
      "/home/dmytro/.local/lib/python3.8/site-packages/sklearn/base.py:445: UserWarning: X does not have valid feature names, but KNeighborsClassifier was fitted with feature names\n",
      "  warnings.warn(\n"
     ]
    },
    {
     "data": {
      "text/plain": [
       "<matplotlib.image.AxesImage at 0x7fe91be00ac0>"
      ]
     },
     "execution_count": 66,
     "metadata": {},
     "output_type": "execute_result"
    },
    {
     "data": {
      "image/png": "[encoded data removed]",
      "text/plain": [
       "<Figure size 432x288 with 1 Axes>"
      ]
     },
     "metadata": {
      "needs_background": "light"
     },
     "output_type": "display_data"
    }
   ],
   "source": [
    "# Multioutput classification\n",
    "\n",
    "# To illustrate this, let’s build a system that removes noise from images.\n",
    "\n",
    "# Let’s start by creating the training and test sets by taking the MNIST images and\n",
    "# adding noise to their pixel intensities with NumPy’s randint() function. The\n",
    "# target images will be the original images\n",
    "\n",
    "noise = np.random.randint(0, 100, (len(X_train), 784))\n",
    "X_train_mod = X_train + noise\n",
    "noise = np.random.randint(0, 100, (len(X_test), 784))\n",
    "X_test_mod = X_test + noise\n",
    "y_train_mod = X_train\n",
    "y_test_mod = X_test\n",
    "\n",
    "\n",
    "dig1 = np.array(X_test_mod.iloc[5]).reshape(28,28)\n",
    "\n",
    "\n",
    "knn_clf.fit(X_train_mod, y_train_mod)\n",
    "clean_digit = knn_clf.predict([X_test_mod.iloc[5]])\n",
    "dig = np.array(clean_digit).reshape(28,28)\n",
    "plt.imshow(dig, cmap='binary')"
   ]
  },
  {
   "cell_type": "code",
   "execution_count": null,
   "id": "1b2c18e2",
   "metadata": {},
   "outputs": [],
   "source": [
    "# Looks close enough to the target! This concludes our tour of classification. You\n",
    "# should now know how to select good metrics for classification tasks, pick the\n",
    "# appropriate precision/recall trade-off, compare classifiers, and more generally\n",
    "# build good classification systems for a variety of tasks"
   ]
  }
 ],
 "metadata": {
  "kernelspec": {
   "display_name": "Python 3 (ipykernel)",
   "language": "python",
   "name": "python3"
  },
  "language_info": {
   "codemirror_mode": {
    "name": "ipython",
    "version": 3
   },
   "file_extension": ".py",
   "mimetype": "text/x-python",
   "name": "python",
   "nbconvert_exporter": "python",
   "pygments_lexer": "ipython3",
   "version": "3.8.10"
  }
 },
 "nbformat": 4,
 "nbformat_minor": 5
}
