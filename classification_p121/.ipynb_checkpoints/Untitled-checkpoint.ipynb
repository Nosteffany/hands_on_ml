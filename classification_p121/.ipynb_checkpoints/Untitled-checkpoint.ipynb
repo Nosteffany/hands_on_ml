{
 "cells": [
  {
   "cell_type": "code",
   "execution_count": 22,
   "id": "c66229ef",
   "metadata": {},
   "outputs": [
    {
     "name": "stdout",
     "output_type": "stream",
     "text": [
      "0.9492\n"
     ]
    }
   ],
   "source": [
    "# from sklearn.datasets import fetch_openml\n",
    "import pickle\n",
    "import sklearn as sk\n",
    "import numpy as np\n",
    "import matplotlib.pyplot as plt\n",
    "from sklearn.linear_model import SGDClassifier\n",
    "from sklearn.model_selection import cross_val_score\n",
    "\n",
    "\n",
    "with open('/home/dmytro/Desktop/hands_on_ml/classification_p121/mnist.pickle', 'rb') as f:\n",
    "    mnist = pickle.load(f)\n",
    "\n",
    "# Prepare data\n",
    "X = mnist['data']\n",
    "y = mnist['target'].astype('int')\n",
    "\n",
    "X_train = X[:60000]\n",
    "X_test = X[60000:]\n",
    "\n",
    "y_train = y[:60000]\n",
    "y_test = y[60000:]\n",
    "\n",
    "y_train_5 = (y_train == 5)\n",
    "y_test_5 = (y_test == 5)\n",
    "\n",
    "y_train_5 = y_train_5.astype('int')\n",
    "y_test_5 = y_test_5.astype('int')\n",
    "\n",
    "\n",
    "\n",
    "\n",
    "\n",
    "# Training a Binary Classifier\n",
    "sgd_clf = SGDClassifier(random_state=42)\n",
    "sgd_clf.fit(X_train, y_train_5)\n",
    "print(sgd_clf.score(X_test, y_test_5))"
   ]
  },
  {
   "cell_type": "code",
   "execution_count": 24,
   "id": "2a3b06b3",
   "metadata": {},
   "outputs": [
    {
     "data": {
      "text/plain": [
       "array([0.95035, 0.96035, 0.9604 ])"
      ]
     },
     "execution_count": 24,
     "metadata": {},
     "output_type": "execute_result"
    }
   ],
   "source": [
    "cross_val_score(sgd_clf, X_train, y_train_5, cv=3, scoring=\"accuracy\")\n"
   ]
  },
  {
   "cell_type": "code",
   "execution_count": 28,
   "id": "1f16b8b6",
   "metadata": {},
   "outputs": [
    {
     "data": {
      "text/plain": [
       "array([[53892,   687],\n",
       "       [ 1891,  3530]])"
      ]
     },
     "execution_count": 28,
     "metadata": {},
     "output_type": "execute_result"
    }
   ],
   "source": [
    "# Confusion Matrix\n",
    "from sklearn.model_selection import cross_val_predict\n",
    "from sklearn.metrics import confusion_matrix\n",
    "\n",
    "# To compute the confusion matrix, you first need to have a set of predictions so\n",
    "# that they can be compared to the actual targets. You could make predictions on\n",
    "# the test set, but let’s keep it untouched for now (remember that you want to use\n",
    "# the test set only at the very end of your project, once you have a classifier that\n",
    "# you are ready to launch). Instead, you can use the cross_val_predict()\n",
    "# function:\n",
    "\n",
    "y_train_pred = cross_val_predict(sgd_clf, X_train, y_train_5, cv=3)\n",
    "y_train_pred\n",
    "confusion_matrix(y_train_5, y_train_pred)"
   ]
  },
  {
   "cell_type": "code",
   "execution_count": 27,
   "id": "afe28012",
   "metadata": {},
   "outputs": [
    {
     "data": {
      "text/plain": [
       "array([[53892,   687],\n",
       "       [ 1891,  3530]])"
      ]
     },
     "execution_count": 27,
     "metadata": {},
     "output_type": "execute_result"
    }
   ],
   "source": [
    "# The confusion matrix gives you a lot of information, but sometimes you may\n",
    "# prefer a more concise metric.\n",
    "\n"
   ]
  }
 ],
 "metadata": {
  "kernelspec": {
   "display_name": "Python 3 (ipykernel)",
   "language": "python",
   "name": "python3"
  },
  "language_info": {
   "codemirror_mode": {
    "name": "ipython",
    "version": 3
   },
   "file_extension": ".py",
   "mimetype": "text/x-python",
   "name": "python",
   "nbconvert_exporter": "python",
   "pygments_lexer": "ipython3",
   "version": "3.8.10"
  }
 },
 "nbformat": 4,
 "nbformat_minor": 5
}
