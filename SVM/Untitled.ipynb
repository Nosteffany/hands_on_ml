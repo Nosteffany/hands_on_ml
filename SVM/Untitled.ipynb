{
 "cells": [
  {
   "cell_type": "code",
   "execution_count": 1,
   "id": "5ff010a6",
   "metadata": {},
   "outputs": [],
   "source": [
    "import pandas as pd\n",
    "import numpy as np\n",
    "import matplotlib.pyplot as plt"
   ]
  },
  {
   "cell_type": "code",
   "execution_count": 2,
   "id": "9b935fd0",
   "metadata": {},
   "outputs": [
    {
     "data": {
      "text/plain": [
       "Pipeline(steps=[('scaler', StandardScaler()),\n",
       "                ('linear_svc', LinearSVC(C=1, loss='hinge'))])"
      ]
     },
     "execution_count": 2,
     "metadata": {},
     "output_type": "execute_result"
    }
   ],
   "source": [
    "# Linear SVM Classification\n",
    "\n",
    "import numpy as np\n",
    "from sklearn import datasets\n",
    "from sklearn.pipeline import Pipeline\n",
    "from sklearn.preprocessing import StandardScaler\n",
    "from sklearn.svm import LinearSVC\n",
    "\n",
    "iris = datasets.load_iris()\n",
    "iris.keys()\n",
    "\n",
    "X = iris[\"data\"][:, (2, 3)]\n",
    "y = (iris[\"target\"] == 2).astype(np.float64)\n",
    "\n",
    "svm_clf = Pipeline([\n",
    "(\"scaler\", StandardScaler()),\n",
    "(\"linear_svc\", LinearSVC(C=1, loss=\"hinge\")),\n",
    "])\n",
    "\n",
    "svm_clf.fit(X, y)"
   ]
  },
  {
   "cell_type": "code",
   "execution_count": 3,
   "id": "078e73c3",
   "metadata": {},
   "outputs": [
    {
     "data": {
      "text/plain": [
       "array([1.])"
      ]
     },
     "execution_count": 3,
     "metadata": {},
     "output_type": "execute_result"
    }
   ],
   "source": [
    "svm_clf.predict([[5.5, 2]])\n",
    "\n",
    "# Instead of using the LinearSVC class, we could use the SVC class with a linear\n",
    "# kernel. When creating the SVC model, we would write SVC(kernel=\"linear\",\n",
    "# C=1). Or we could use the SGDClassifier class, with\n",
    "# SGDClassifier(loss=\"hinge\", alpha=1/(m*C)).\n",
    "\n",
    "\n",
    "# The LinearSVC class regularizes the bias term, so you should center the training set first by\n",
    "# subtracting its mean. This is automatic if you scale the data using the StandardScaler. Also\n",
    "# make sure you set the loss hyperparameter to \"hinge\", as it is not the default value. Finally,\n",
    "# for better performance, you should set the dual hyperparameter to False, unless there are\n",
    "# more features than training instances (we will discuss duality later in the chapter)."
   ]
  },
  {
   "cell_type": "code",
   "execution_count": 4,
   "id": "2b3a6617",
   "metadata": {},
   "outputs": [
    {
     "name": "stderr",
     "output_type": "stream",
     "text": [
      "/home/dmytro/.local/lib/python3.8/site-packages/sklearn/svm/_base.py:1206: ConvergenceWarning: Liblinear failed to converge, increase the number of iterations.\n",
      "  warnings.warn(\n"
     ]
    },
    {
     "data": {
      "text/plain": [
       "Pipeline(steps=[('add_poly', PolynomialFeatures(degree=3)),\n",
       "                ('scaller', StandardScaler()),\n",
       "                ('linear_svm', LinearSVC(C=10, loss='hinge'))])"
      ]
     },
     "execution_count": 4,
     "metadata": {},
     "output_type": "execute_result"
    }
   ],
   "source": [
    "# Nonlinear SVM\n",
    "\n",
    "from sklearn.datasets import make_moons\n",
    "from sklearn.pipeline import Pipeline\n",
    "from sklearn.preprocessing import PolynomialFeatures\n",
    "\n",
    "X, y = make_moons(n_samples=100, noise=0.15)\n",
    "\n",
    "polynomial_clf = Pipeline([\n",
    "    ('add_poly', PolynomialFeatures(degree=3)),\n",
    "    ('scaller', StandardScaler()),\n",
    "    ('linear_svm', LinearSVC(C=10, loss='hinge'))\n",
    "])\n",
    "\n",
    "polynomial_clf.fit(X,y)"
   ]
  },
  {
   "cell_type": "code",
   "execution_count": 5,
   "id": "15af1bde",
   "metadata": {},
   "outputs": [],
   "source": [
    "# pt = (X[y==1], X[y==0])\n",
    "\n",
    "# plt.scatter(pt[0][:,0],pt[0][:,1])\n",
    "# plt.scatter(pt[1][:,0],pt[0][:,1], c='red')\n",
    "# plt.scatter(1,0,c='green')\n",
    "# polynomial_clf.predict([[1,0]])"
   ]
  },
  {
   "cell_type": "code",
   "execution_count": 7,
   "id": "a61f1e0a",
   "metadata": {},
   "outputs": [
    {
     "data": {
      "text/plain": [
       "Pipeline(steps=[('scaler', StandardScaler()),\n",
       "                ('svm_clf', SVC(C=5, coef0=1, kernel='poly'))])"
      ]
     },
     "execution_count": 7,
     "metadata": {},
     "output_type": "execute_result"
    }
   ],
   "source": [
    "# Polynomial Kernel\n",
    "# Simple SVC uses kernel trick\n",
    "\n",
    "from sklearn.svm import SVC\n",
    "poly_kernel_svm_clf = Pipeline([\n",
    "(\"scaler\", StandardScaler()),\n",
    "(\"svm_clf\", SVC(kernel=\"poly\", degree=3, coef0=1, C=5))\n",
    "])\n",
    "poly_kernel_svm_clf.fit(X, y)\n",
    "# This code trains an SVM classifier using a third-degree polynomial kernel.\n",
    "# The hyperparameter coef0 controls how much the\n",
    "# model is influenced by high-degree polynomials versus low-degree polynomials.\n",
    "\n"
   ]
  },
  {
   "cell_type": "code",
   "execution_count": 8,
   "id": "fac359be",
   "metadata": {},
   "outputs": [
    {
     "data": {
      "text/plain": [
       "Pipeline(steps=[('scaler', StandardScaler()),\n",
       "                ('svm_clf', SVC(C=0.001, gamma=5))])"
      ]
     },
     "execution_count": 8,
     "metadata": {},
     "output_type": "execute_result"
    }
   ],
   "source": [
    "# Gaussian RBF Kernel\n",
    "\n",
    "# Once again the kernel trick does its SVM magic, making it possible to obtain a\n",
    "# similar result as if you had added many similarity features. Let’s try the SVC\n",
    "# class with the Gaussian RBF kernel:\n",
    "\n",
    "rbf_kernel_svm_clf = Pipeline([\n",
    "(\"scaler\", StandardScaler()),\n",
    "(\"svm_clf\", SVC(kernel=\"rbf\", gamma=5, C=0.001))\n",
    "])\n",
    "rbf_kernel_svm_clf.fit(X, y)"
   ]
  },
  {
   "cell_type": "code",
   "execution_count": 9,
   "id": "6428972e",
   "metadata": {},
   "outputs": [
    {
     "data": {
      "text/plain": [
       "SVR(C=100, degree=2, kernel='poly')"
      ]
     },
     "execution_count": 9,
     "metadata": {},
     "output_type": "execute_result"
    }
   ],
   "source": [
    "# SVM Regression\n",
    "\n",
    "# Linear\n",
    "from sklearn.svm import LinearSVR\n",
    "svm_reg = LinearSVR(epsilon=1.5)\n",
    "svm_reg.fit(X, y)\n",
    "\n",
    "# Kernel\n",
    "from sklearn.svm import SVR\n",
    "svm_poly_reg = SVR(kernel=\"poly\", degree=2, C=100, epsilon=0.1)\n",
    "svm_poly_reg.fit(X, y)\n",
    "\n",
    "# The SVR class is the regression equivalent of the SVC class, and the LinearSVR\n",
    "# class is the regression equivalent of the LinearSVC class.\n",
    "\n",
    "\n"
   ]
  },
  {
   "cell_type": "code",
   "execution_count": 120,
   "id": "cc2effbe",
   "metadata": {},
   "outputs": [
    {
     "data": {
      "text/plain": [
       "<matplotlib.collections.PathCollection at 0x7fbe75961730>"
      ]
     },
     "execution_count": 120,
     "metadata": {},
     "output_type": "execute_result"
    },
    {
     "data": {
      "image/png": "[encoded data removed]",
      "text/plain": [
       "<Figure size 432x288 with 1 Axes>"
      ]
     },
     "metadata": {
      "needs_background": "light"
     },
     "output_type": "display_data"
    }
   ],
   "source": [
    "# task8\n",
    "from sklearn import datasets\n",
    "from sklearn.model_selection import train_test_split\n",
    "from sklearn.linear_model import SGDClassifier\n",
    "\n",
    "X, y = datasets.make_blobs(n_samples=200, centers=2, n_features=2, center_box=(0, 10))\n",
    "\n",
    "scaler = StandardScaler()\n",
    "\n",
    "X = scaler.fit_transform(X)\n",
    "\n",
    "svm = SVC()\n",
    "lsvm = LinearSVC()\n",
    "sgd = SGDClassifier(loss='hinge', alpha=1/100)\n",
    "\n",
    "svm.fit(X,y)\n",
    "lsvm.fit(X,y)\n",
    "sgd.fit(X,y)\n",
    "\n",
    "\n",
    "# X_train, X_test, y_train, y_test = train_test_split(X,y,train_size=0.3,random_state=90)\n",
    "\n",
    "# linear_pipe = Pipeline([\n",
    "#     ('scaller', StandardScaler()),\n",
    "#     ('linear_SVM', LinearSVC()),\n",
    "# ])\n",
    "\n",
    "# svm_pipe = Pipeline([\n",
    "#     ('scaller', StandardScaler()),\n",
    "#     ('SVM', SVC()),\n",
    "# ])\n",
    "\n",
    "# sgd_pipe = Pipeline([\n",
    "#     ('scaller', StandardScaler()),\n",
    "#     ('SGD', SGDClassifier(loss='hinge', alpha=1/100)),\n",
    "# ])\n",
    "\n",
    "\n",
    "\n",
    "# svm_pipe.fit(X_train, y_train)\n",
    "# sgd_pipe.fit(X_train, y_train)\n",
    "# linear_pipe.fit(X_train, y_train)\n",
    "\n",
    "\n",
    "a,b = X[:,0],X[:,1]\n",
    "plt.scatter(a,b)"
   ]
  },
  {
   "cell_type": "code",
   "execution_count": 122,
   "id": "b25f6cb3",
   "metadata": {},
   "outputs": [],
   "source": [
    "# svm_pipe.score(X_test, y_test), sgd_pipe.score(X_test, y_test), linear_pipe.score(X_test, y_test)\n"
   ]
  }
 ],
 "metadata": {
  "kernelspec": {
   "display_name": "Python 3 (ipykernel)",
   "language": "python",
   "name": "python3"
  },
  "language_info": {
   "codemirror_mode": {
    "name": "ipython",
    "version": 3
   },
   "file_extension": ".py",
   "mimetype": "text/x-python",
   "name": "python",
   "nbconvert_exporter": "python",
   "pygments_lexer": "ipython3",
   "version": "3.8.10"
  }
 },
 "nbformat": 4,
 "nbformat_minor": 5
}
