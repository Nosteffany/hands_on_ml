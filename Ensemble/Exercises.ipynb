{
 "cells": [
  {
   "cell_type": "markdown",
   "id": "d5f6636b",
   "metadata": {},
   "source": [
    "1) yes\n",
    "2) hard voting == max votes, soft voting == weighted voting(max sum of probabilities) \n",
    "3) yes, yes, boosting doesn't work, yes, yes, but with additional conditions\n",
    "4) close to accuracy, no need for test_sample\n",
    "5) 50%50 about speed, It takes a random subspace of features, to grow wide spreading model.\n",
    "6) increase learning rate, more estimators, less regularizing\n",
    "7) --- decrease"
   ]
  },
  {
   "cell_type": "code",
   "execution_count": 2,
   "id": "e91a856a",
   "metadata": {},
   "outputs": [],
   "source": [
    "import numpy as np\n",
    "from sklearn.datasets import fetch_openml"
   ]
  },
  {
   "cell_type": "code",
   "execution_count": 5,
   "id": "a98ddb71",
   "metadata": {},
   "outputs": [],
   "source": [
    "mnist = fetch_openml('mnist_784')"
   ]
  },
  {
   "cell_type": "code",
   "execution_count": 25,
   "id": "21592758",
   "metadata": {},
   "outputs": [],
   "source": [
    "from sklearn.model_selection import train_test_split\n",
    "\n",
    "\n",
    "X_train, X_test, y_train, y_test = train_test_split(mnist.data, mnist.target, test_size=0.28571)\n",
    "X_test, X_val, y_test, y_val = train_test_split(X_test,y_test, test_size=0.5)\n"
   ]
  },
  {
   "cell_type": "code",
   "execution_count": null,
   "id": "8313a45b",
   "metadata": {},
   "outputs": [],
   "source": [
    "from sklearn.tree import ExtraTreeClassifier\n",
    "from sklearn.ensemble import RandomForestClassifier\n",
    "from sklearn.svm import SVC\n",
    "from sklearn.preprocessing import StandardScaler\n",
    "\n",
    "svc = SVC()\n",
    "svc.fit(X_train, y_train)\n",
    "svc.score(X_val,y_val)\n"
   ]
  },
  {
   "cell_type": "code",
   "execution_count": null,
   "id": "5d9266ff",
   "metadata": {},
   "outputs": [],
   "source": []
  }
 ],
 "metadata": {
  "kernelspec": {
   "display_name": "Python 3 (ipykernel)",
   "language": "python",
   "name": "python3"
  },
  "language_info": {
   "codemirror_mode": {
    "name": "ipython",
    "version": 3
   },
   "file_extension": ".py",
   "mimetype": "text/x-python",
   "name": "python",
   "nbconvert_exporter": "python",
   "pygments_lexer": "ipython3",
   "version": "3.8.10"
  }
 },
 "nbformat": 4,
 "nbformat_minor": 5
}
