{
 "cells": [
  {
   "cell_type": "markdown",
   "id": "0c1702d8",
   "metadata": {},
   "source": [
    "1) The main purpose is more comfortable visualization that can be fitted in 2-3 dimentional space\n",
    "   Also there are much more drawbacks such as: losing a lot of information apllying dim reduction, losing time doing    this operation.\n",
    "2) It is such an issue that can arise while you operate in high-dimensional spaces. More precisely: the bigger dimension the more distance between points in this dimension. It causes sparse models that take a lot of time to operate them\n",
    "\n",
    "3) There is a reverse operation as well. We can return to a higher dimensional basis and cast the data onto it but we get slightly different data\n",
    "\n",
    "4) Kernel PCA\n",
    "\n",
    "5) It depends on how much sparsed our data\n",
    "\n",
    "6) If we have enough Ram and Computational resources we would use a vanilla PCA, if we don't have such then we use incremental or kernel PCA.If we face nonlinear data we should use a kernel PCA\n",
    "\n",
    "7) Explained variance  (Reconstruction error)\n",
    "\n",
    "8) It can absolutely make sense to chain two different dimensionality\n",
    "reduction algorithms. A common example is using PCA to quickly get\n",
    "rid of a large number of useless dimensions, then applying another\n",
    "much slower dimensionality reduction algorithm, such as LLE. This\n",
    "two-step approach will likely yield the same performance as using LLE\n",
    "only, but in a fraction of the time.\n",
    "\n"
   ]
  },
  {
   "cell_type": "code",
   "execution_count": 1,
   "id": "4e5c7869",
   "metadata": {},
   "outputs": [],
   "source": [
    "from sklearn.datasets import fetch_openml\n",
    "mnist = fetch_openml('mnist_784')"
   ]
  },
  {
   "cell_type": "code",
   "execution_count": 3,
   "id": "ecb4e62d",
   "metadata": {},
   "outputs": [],
   "source": [
    "from sklearn.model_selection import train_test_split\n",
    "from sklearn.ensemble import RandomForestClassifier\n",
    "\n",
    "X_train,X_test,y_train,y_test = train_test_split(mnist.data[:30000], mnist.target[:30000], test_size=0.2)\n"
   ]
  },
  {
   "cell_type": "code",
   "execution_count": 23,
   "id": "1cb05fb3",
   "metadata": {},
   "outputs": [
    {
     "name": "stdout",
     "output_type": "stream",
     "text": [
      "CPU times: user 22.7 s, sys: 36.1 ms, total: 22.7 s\n",
      "Wall time: 22.8 s\n"
     ]
    },
    {
     "data": {
      "text/plain": [
       "0.9603333333333334"
      ]
     },
     "execution_count": 23,
     "metadata": {},
     "output_type": "execute_result"
    }
   ],
   "source": [
    "%%time\n",
    "rfc = RandomForestClassifier()\n",
    "rfc.fit(X_train, y_train)\n",
    "rfc.score(X_test, y_test)"
   ]
  },
  {
   "cell_type": "code",
   "execution_count": 26,
   "id": "ea625ad0",
   "metadata": {},
   "outputs": [],
   "source": [
    "from sklearn.decomposition import PCA\n",
    "\n",
    "pca = PCA(n_components=0.95)\n",
    "\n",
    "X_train_reduced = pca.fit_transform(X_train)\n",
    "X_test_reduced = pca.transform(X_test)\n"
   ]
  },
  {
   "cell_type": "code",
   "execution_count": 28,
   "id": "98183d34",
   "metadata": {},
   "outputs": [
    {
     "name": "stdout",
     "output_type": "stream",
     "text": [
      "CPU times: user 50.2 s, sys: 12.4 ms, total: 50.2 s\n",
      "Wall time: 50.3 s\n"
     ]
    },
    {
     "data": {
      "text/plain": [
       "0.9375"
      ]
     },
     "execution_count": 28,
     "metadata": {},
     "output_type": "execute_result"
    }
   ],
   "source": [
    "%%time\n",
    "\n",
    "rfc = RandomForestClassifier()\n",
    "rfc.fit(X_train_reduced, y_train)\n",
    "rfc.score(X_test_reduced, y_test)"
   ]
  },
  {
   "cell_type": "code",
   "execution_count": null,
   "id": "57611531",
   "metadata": {},
   "outputs": [],
   "source": [
    "from sklearn.manifold import TSNE\n",
    "from sklearn.manifold import MDS\n",
    "from sklearn.decomposition import PCA\n",
    "import matplotlib.pyplot as plt\n",
    "\n",
    "colors = [\n",
    "    '#000000',\n",
    "    '#ff0000',\n",
    "    '#ff9d00',\n",
    "    '#ffcc00',\n",
    "    '#aaff00',\n",
    "    '#2ba100',\n",
    "    '#00947b',\n",
    "    '#00328f',\n",
    "    '#53008f',\n",
    "    '#78026c'\n",
    "]\n",
    "\n",
    "# dim = TSNE(n_components=2)\n",
    "# dim = PCA(n_components=2)\n",
    "dim = MDS(n_components=2)\n",
    "\n",
    "X_tsne = dim.fit_transform(X_test)\n"
   ]
  },
  {
   "cell_type": "code",
   "execution_count": 75,
   "id": "654c3f4e",
   "metadata": {},
   "outputs": [
    {
     "data": {
      "image/png": "[encoded data removed]",
      "text/plain": [
       "<Figure size 432x288 with 1 Axes>"
      ]
     },
     "metadata": {
      "needs_background": "light"
     },
     "output_type": "display_data"
    }
   ],
   "source": [
    "y_test = y_test.set_axis(range(6000))\n",
    "for i in range(10):\n",
    "    idx = y_test[y_test==str(i)][:20]\n",
    "    plt.scatter(X_tsne[idx.index,0],X_tsne[idx.index,1],color=colors[i])\n",
    "\n",
    "\n",
    "\n"
   ]
  },
  {
   "cell_type": "code",
   "execution_count": null,
   "id": "1ba2be3c",
   "metadata": {},
   "outputs": [],
   "source": []
  }
 ],
 "metadata": {
  "kernelspec": {
   "display_name": "Python 3 (ipykernel)",
   "language": "python",
   "name": "python3"
  },
  "language_info": {
   "codemirror_mode": {
    "name": "ipython",
    "version": 3
   },
   "file_extension": ".py",
   "mimetype": "text/x-python",
   "name": "python",
   "nbconvert_exporter": "python",
   "pygments_lexer": "ipython3",
   "version": "3.8.10"
  }
 },
 "nbformat": 4,
 "nbformat_minor": 5
}
